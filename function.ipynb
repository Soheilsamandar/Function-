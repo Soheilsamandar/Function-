{
 "cells": [
  {
   "cell_type": "markdown",
   "metadata": {},
   "source": [
    "### MAX,MIN in TUPLE"
   ]
  },
  {
   "cell_type": "code",
   "execution_count": 119,
   "metadata": {},
   "outputs": [],
   "source": [
    "def find_tuple(numbers):\n",
    "    max = numbers[0]\n",
    "    min = numbers[0]\n",
    "    for i in numbers:\n",
    "        if i>max:\n",
    "            max=i\n",
    "    for j in numbers:\n",
    "        if j<min:\n",
    "            min = j\n",
    "    return max,min"
   ]
  },
  {
   "cell_type": "markdown",
   "metadata": {},
   "source": [
    "### MAX,MIN in LIST"
   ]
  },
  {
   "cell_type": "code",
   "execution_count": 120,
   "metadata": {},
   "outputs": [],
   "source": [
    "def find_list(numbers):\n",
    "    max = numbers[0]\n",
    "    min = numbers[0]\n",
    "    for i in numbers:\n",
    "        if i>max:\n",
    "            max=i\n",
    "    for j in numbers:\n",
    "        if j<min:\n",
    "            min = j\n",
    "    return max,min"
   ]
  },
  {
   "cell_type": "markdown",
   "metadata": {},
   "source": [
    "### Bubble Sort"
   ]
  },
  {
   "cell_type": "code",
   "execution_count": 121,
   "metadata": {},
   "outputs": [],
   "source": [
    "def BubbleSort(array): \n",
    "    for i in range(len(array)):\n",
    "        for j in range(0, len(array)-i-1):\n",
    "            if array[j] > array[j + 1]:\n",
    "                temp = array[j]\n",
    "                array[j] = array[j+1]\n",
    "                array[j+1] = temp\n",
    "    return array\n"
   ]
  },
  {
   "cell_type": "markdown",
   "metadata": {},
   "source": [
    "### Binary search 2 => return index"
   ]
  },
  {
   "cell_type": "code",
   "execution_count": 122,
   "metadata": {},
   "outputs": [],
   "source": [
    "def Binary2(lst,target):\n",
    "    left = 0 \n",
    "    right = len(lst)\n",
    "    while left < right :\n",
    "        mid = left + (right-left)//2\n",
    "        if lst[mid] == target:\n",
    "            return mid\n",
    "        elif lst[mid] < target:\n",
    "            left = mid+1\n",
    "        else :\n",
    "            right = mid-1 \n",
    "    return -1"
   ]
  },
  {
   "cell_type": "markdown",
   "metadata": {},
   "source": [
    "### median sort arrays"
   ]
  },
  {
   "cell_type": "code",
   "execution_count": 123,
   "metadata": {},
   "outputs": [],
   "source": [
    "def findMediansortArrays(nums1,nums2):\n",
    "    nums1.extend(nums2)\n",
    "    nums1 = sorted(nums1)\n",
    "    length = len(nums1)\n",
    "    if length%2:\n",
    "        return nums1[length//2]\n",
    "    else :\n",
    "        return (nums1[length//2]+nums1[length//2-1])/2"
   ]
  },
  {
   "cell_type": "markdown",
   "metadata": {},
   "source": [
    "### FIBONACCI"
   ]
  },
  {
   "cell_type": "code",
   "execution_count": 124,
   "metadata": {},
   "outputs": [],
   "source": [
    "def FIBONACCI(list , n):\n",
    "    fib = list\n",
    "    for i in range(n):\n",
    "        fib.append(fib[-1]+fib[-2])\n",
    "    print(','.join(str(e) for e in fib))"
   ]
  },
  {
   "cell_type": "markdown",
   "metadata": {},
   "source": [
    "### Merge two list "
   ]
  },
  {
   "cell_type": "code",
   "execution_count": 125,
   "metadata": {},
   "outputs": [],
   "source": [
    "def adding_two_list(nums1,nums2):\n",
    "    total_list = []\n",
    "    for i in range(0,len(nums1)):\n",
    "        total_list.append(nums1[i] + nums2[i])\n",
    "    return total_list"
   ]
  },
  {
   "cell_type": "markdown",
   "metadata": {},
   "source": [
    "### numbers of char"
   ]
  },
  {
   "cell_type": "code",
   "execution_count": 126,
   "metadata": {},
   "outputs": [],
   "source": [
    "def numbers_of_char(including , char):\n",
    "    count = 0 \n",
    "    for i in including :\n",
    "        if i == char:\n",
    "            count+=1\n",
    "    return count"
   ]
  },
  {
   "cell_type": "markdown",
   "metadata": {},
   "source": [
    "### Selection sort"
   ]
  },
  {
   "cell_type": "code",
   "execution_count": 127,
   "metadata": {},
   "outputs": [],
   "source": [
    "def selection_sort(arr):        \n",
    "    for i in range(len(arr)):\n",
    "        minimum = i       \n",
    "        for j in range(i + 1, len(arr)):\n",
    "            if arr[j] < arr[minimum]:\n",
    "                minimum = j\n",
    "        arr[minimum], arr[i] = arr[i], arr[minimum]\n",
    "    return arr"
   ]
  },
  {
   "cell_type": "markdown",
   "metadata": {},
   "source": [
    "### Remove duplicates in sorted array"
   ]
  },
  {
   "cell_type": "code",
   "execution_count": 128,
   "metadata": {},
   "outputs": [],
   "source": [
    "def rmduplicate_sort(nums):\n",
    "    i = 1 \n",
    "    if len(nums)>1:\n",
    "        while i < len(nums):\n",
    "            if nums[i]==nums[i-1]:\n",
    "                nums.pop(i)\n",
    "            else:\n",
    "                i+=1\n",
    "    return nums "
   ]
  },
  {
   "cell_type": "markdown",
   "metadata": {},
   "source": [
    "### Remove duplicate in not sorted array"
   ]
  },
  {
   "cell_type": "code",
   "execution_count": 129,
   "metadata": {},
   "outputs": [],
   "source": [
    "def rm_duplicate(numbers):\n",
    "    res=[]\n",
    "    for i in range(len(numbers)):\n",
    "        found = False\n",
    "        for j in range(len(res)):\n",
    "            if numbers[i]==res[j]:\n",
    "                found = True\n",
    "                break\n",
    "        if not found:\n",
    "            res.append(numbers[i])\n",
    "    return res"
   ]
  },
  {
   "cell_type": "markdown",
   "metadata": {},
   "source": [
    "### DFS-(depth first search)"
   ]
  },
  {
   "cell_type": "code",
   "execution_count": 130,
   "metadata": {},
   "outputs": [],
   "source": [
    "def DFS(graph , start,visited=None):\n",
    "    if visited is None:\n",
    "        visited = set()\n",
    "    visited.add(start)\n",
    "    print(start,end=\" \")\n",
    "    for neighber in graph.get(start,[]):\n",
    "        if neighber not in visited:\n",
    "            DFS(graph,neighber,visited)"
   ]
  },
  {
   "cell_type": "markdown",
   "metadata": {},
   "source": [
    "### BFS-(breadth first search)"
   ]
  },
  {
   "cell_type": "code",
   "execution_count": 131,
   "metadata": {},
   "outputs": [],
   "source": [
    "def BFS(graph,start):\n",
    "    visited = set()\n",
    "    queue=[start]\n",
    "    while queue:\n",
    "        node = queue.pop(0)\n",
    "        if node not in visited:\n",
    "            visited.add(node)\n",
    "            queue.extend(graph.get(node,[]))"
   ]
  },
  {
   "cell_type": "markdown",
   "metadata": {},
   "source": [
    "### Manhattan dis"
   ]
  },
  {
   "cell_type": "code",
   "execution_count": 132,
   "metadata": {},
   "outputs": [],
   "source": [
    "def find_index(puzzle,num):\n",
    "    index=puzzle.index(num)\n",
    "    i=index//3 \n",
    "    j=index-(i*3)\n",
    "    return i,j\n",
    "def Manhattan_dis(puzzle,goal):\n",
    "    t=0\n",
    "    for num in puzzle:\n",
    "        i,j=find_index(puzzle,num)\n",
    "        x,y=find_index(goal,num)\n",
    "        t+=abs(i-x)+abs(j-y)\n",
    "    return t "
   ]
  },
  {
   "cell_type": "markdown",
   "metadata": {},
   "source": [
    "### KMP search"
   ]
  },
  {
   "cell_type": "code",
   "execution_count": 133,
   "metadata": {},
   "outputs": [],
   "source": [
    "def compute_lps(pattern):\n",
    "    m=len(pattern)\n",
    "    lps=[0]*m\n",
    "    j=0\n",
    "    for i in range(1,m):\n",
    "        while j > 0 and pattern[i]!=pattern[j]:\n",
    "            j=lps[j-1]\n",
    "            if pattern[i]==pattern[j]:\n",
    "                j+=1\n",
    "                lps[i]=j\n",
    "    return lps\n",
    "def KMP_search(text,pattern):\n",
    "    if not text or not pattern:\n",
    "        print(\"Error\")\n",
    "        return\n",
    "    n,m =len(text),len(pattern)\n",
    "    lps=compute_lps(pattern)\n",
    "    i=j=0\n",
    "    match=[]\n",
    "    while i < n:\n",
    "        if text[i]==pattern[j]:\n",
    "            i+=1\n",
    "            j+=1\n",
    "        if j==m:\n",
    "            match.append(i-j)\n",
    "            j=lps[j-1]\n",
    "        elif i<n and text[i]!=pattern[j]:\n",
    "            j=lps[j-1] if j > 0 else 0 \n",
    "            if j == 0 :\n",
    "                i +=1\n",
    "    if match:\n",
    "        print(f'found{match}')\n",
    "    else:\n",
    "        print('not found')\n"
   ]
  }
 ],
 "metadata": {
  "kernelspec": {
   "display_name": "Python 3",
   "language": "python",
   "name": "python3"
  },
  "language_info": {
   "codemirror_mode": {
    "name": "ipython",
    "version": 3
   },
   "file_extension": ".py",
   "mimetype": "text/x-python",
   "name": "python",
   "nbconvert_exporter": "python",
   "pygments_lexer": "ipython3",
   "version": "3.8.10"
  }
 },
 "nbformat": 4,
 "nbformat_minor": 2
}
